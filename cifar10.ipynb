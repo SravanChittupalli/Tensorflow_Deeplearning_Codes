{
  "nbformat": 4,
  "nbformat_minor": 0,
  "metadata": {
    "kernelspec": {
      "display_name": "Python 2",
      "language": "python",
      "name": "python2"
    },
    "language_info": {
      "codemirror_mode": {
        "name": "ipython",
        "version": 2
      },
      "file_extension": ".py",
      "mimetype": "text/x-python",
      "name": "python",
      "nbconvert_exporter": "python",
      "pygments_lexer": "ipython2",
      "version": "2.7.12"
    },
    "colab": {
      "name": "cifar10.ipynb",
      "provenance": []
    }
  },
  "cells": [
    {
      "cell_type": "code",
      "metadata": {
        "id": "k5Hu80KOrLed",
        "colab_type": "code",
        "colab": {}
      },
      "source": [
        "#CNN model for CIFAR-10 dataset\n"
      ],
      "execution_count": 0,
      "outputs": []
    },
    {
      "cell_type": "code",
      "metadata": {
        "id": "o7Ai8B5wrLe_",
        "colab_type": "code",
        "colab": {
          "base_uri": "https://localhost:8080/",
          "height": 64
        },
        "outputId": "c3f88203-e477-4936-d28e-85cca852023e"
      },
      "source": [
        "import tensorflow as tf\n",
        "from tensorflow import keras\n",
        "import matplotlib.pyplot as plt\n",
        "import numpy as np\n",
        "import random"
      ],
      "execution_count": 1,
      "outputs": [
        {
          "output_type": "display_data",
          "data": {
            "text/plain": [
              "<IPython.core.display.HTML object>"
            ],
            "text/html": [
              "<p style=\"color: red;\">\n",
              "The default version of TensorFlow in Colab will soon switch to TensorFlow 2.x.<br>\n",
              "We recommend you <a href=\"https://www.tensorflow.org/guide/migrate\" target=\"_blank\">upgrade</a> now \n",
              "or ensure your notebook will continue to use TensorFlow 1.x via the <code>%tensorflow_version 1.x</code> magic:\n",
              "<a href=\"https://colab.research.google.com/notebooks/tensorflow_version.ipynb\" target=\"_blank\">more info</a>.</p>\n"
            ]
          },
          "metadata": {
            "tags": []
          }
        }
      ]
    },
    {
      "cell_type": "code",
      "metadata": {
        "id": "CuuWZdHgrLfa",
        "colab_type": "code",
        "colab": {}
      },
      "source": [
        "cifar = tf.keras.datasets.cifar10"
      ],
      "execution_count": 0,
      "outputs": []
    },
    {
      "cell_type": "code",
      "metadata": {
        "id": "Ir7WZK-KrLfu",
        "colab_type": "code",
        "colab": {
          "base_uri": "https://localhost:8080/",
          "height": 69
        },
        "outputId": "4d25fc9e-bfe8-4a14-d0b4-f3f1a71d0bdc"
      },
      "source": [
        "(train_images , train_labels) , (test_images , test_labels) = cifar.load_data()"
      ],
      "execution_count": 3,
      "outputs": [
        {
          "output_type": "stream",
          "text": [
            "Downloading data from https://www.cs.toronto.edu/~kriz/cifar-10-python.tar.gz\n",
            "170500096/170498071 [==============================] - 2s 0us/step\n",
            "170508288/170498071 [==============================] - 2s 0us/step\n"
          ],
          "name": "stdout"
        }
      ]
    },
    {
      "cell_type": "code",
      "metadata": {
        "id": "yMGyAuLPrLgE",
        "colab_type": "code",
        "colab": {
          "base_uri": "https://localhost:8080/",
          "height": 191
        },
        "outputId": "16e8cd78-6d9d-4781-b1ca-3f56409723e8"
      },
      "source": [
        "print(train_images.shape)\n",
        "print(len(train_images))\n",
        "print(len(test_images))\n",
        "#rain_labels=train_labels.reshape(50000)\n",
        "print(train_labels)\n",
        "#test_labels=test_labels.reshape(10000)"
      ],
      "execution_count": 4,
      "outputs": [
        {
          "output_type": "stream",
          "text": [
            "(50000, 32, 32, 3)\n",
            "50000\n",
            "10000\n",
            "[[6]\n",
            " [9]\n",
            " [9]\n",
            " ...\n",
            " [9]\n",
            " [1]\n",
            " [1]]\n"
          ],
          "name": "stdout"
        }
      ]
    },
    {
      "cell_type": "code",
      "metadata": {
        "id": "Yjdk5xPurLgZ",
        "colab_type": "code",
        "colab": {
          "base_uri": "https://localhost:8080/",
          "height": 495
        },
        "outputId": "d687b99a-8cd6-476a-ab51-6644a5666ab0"
      },
      "source": [
        "plt.imshow(train_images[0])\n",
        "fig , a = plt.subplots(2,4)\n",
        "for i in range (0, 2, 1):\n",
        "    for j in range (0, 4, 1):\n",
        "        a[i][j].imshow(train_images[random.randint(0,50000)])\n",
        "plt.show()"
      ],
      "execution_count": 5,
      "outputs": [
        {
          "output_type": "display_data",
          "data": {
            "image/png": "[encoded data removed]",
            "text/plain": [
              "<Figure size 432x288 with 1 Axes>"
            ]
          },
          "metadata": {
            "tags": []
          }
        },
        {
          "output_type": "display_data",
          "data": {
            "image/png": "[encoded data removed]",
            "text/plain": [
              "<Figure size 432x288 with 8 Axes>"
            ]
          },
          "metadata": {
            "tags": []
          }
        }
      ]
    },
    {
      "cell_type": "code",
      "metadata": {
        "id": "qJ8OTbFrrLgs",
        "colab_type": "code",
        "colab": {
          "base_uri": "https://localhost:8080/",
          "height": 173
        },
        "outputId": "a195dbe0-5696-4876-befb-442a5c2c0b7b"
      },
      "source": [
        "#train_labels = keras.utils.to_categorical(train_labels)\n",
        "print(train_labels.shape)\n",
        "print(train_labels)\n",
        "\n",
        "train_images = train_images/255\n",
        "train_images = train_images.reshape(50000 , 32,32,3)\n",
        "test_images = test_images/255 \n",
        "test_images = test_images.reshape(10000 , 32,32,3)\n",
        "print(train_images.shape)"
      ],
      "execution_count": 6,
      "outputs": [
        {
          "output_type": "stream",
          "text": [
            "(50000, 1)\n",
            "[[6]\n",
            " [9]\n",
            " [9]\n",
            " ...\n",
            " [9]\n",
            " [1]\n",
            " [1]]\n",
            "(50000, 32, 32, 3)\n"
          ],
          "name": "stdout"
        }
      ]
    },
    {
      "cell_type": "code",
      "metadata": {
        "id": "vlJaQmXjrLg4",
        "colab_type": "code",
        "colab": {}
      },
      "source": [
        "def structure():\n",
        "    model = tf.keras.Sequential([\n",
        "        tf.keras.layers.Conv2D(64, (3,3), activation='relu', input_shape=(32,32,3)),\n",
        "        tf.keras.layers.MaxPooling2D(2,2),\n",
        "        tf.keras.layers.Dropout(0.6),\n",
        "        tf.keras.layers.Conv2D(64, (3,3), activation='relu'),\n",
        "        tf.keras.layers.MaxPooling2D(2,2),\n",
        "        tf.keras.layers.Dropout(0.6),\n",
        "        tf.keras.layers.Flatten(),\n",
        "        tf.keras.layers.Dense(128 , activation='relu'),\n",
        "        tf.keras.layers.Dense(10 , activation='softmax')\n",
        "    ])\n",
        "    return model"
      ],
      "execution_count": 0,
      "outputs": []
    },
    {
      "cell_type": "code",
      "metadata": {
        "id": "WodzVLAOrLhJ",
        "colab_type": "code",
        "colab": {
          "base_uri": "https://localhost:8080/",
          "height": 593
        },
        "outputId": "2d88c8a9-5947-44a0-ad9f-cb5cd536b527"
      },
      "source": [
        "model=structure()\n",
        "model.summary()"
      ],
      "execution_count": 8,
      "outputs": [
        {
          "output_type": "stream",
          "text": [
            "WARNING: Logging before flag parsing goes to stderr.\n",
            "W0322 03:49:02.651508 140568981178240 deprecation.py:506] From /tensorflow-1.15.0/python2.7/tensorflow_core/python/ops/resource_variable_ops.py:1630: calling __init__ (from tensorflow.python.ops.resource_variable_ops) with constraint is deprecated and will be removed in a future version.\n",
            "Instructions for updating:\n",
            "If using Keras pass *_constraint arguments to layers.\n",
            "W0322 03:49:02.691860 140568981178240 nn_ops.py:4283] Large dropout rate: 0.6 (>0.5). In TensorFlow 2.x, dropout() uses dropout rate instead of keep_prob. Please ensure that this is intended.\n",
            "W0322 03:49:02.725178 140568981178240 nn_ops.py:4283] Large dropout rate: 0.6 (>0.5). In TensorFlow 2.x, dropout() uses dropout rate instead of keep_prob. Please ensure that this is intended.\n"
          ],
          "name": "stderr"
        },
        {
          "output_type": "stream",
          "text": [
            "Model: \"sequential\"\n",
            "_________________________________________________________________\n",
            "Layer (type)                 Output Shape              Param #   \n",
            "=================================================================\n",
            "conv2d (Conv2D)              (None, 30, 30, 64)        1792      \n",
            "_________________________________________________________________\n",
            "max_pooling2d (MaxPooling2D) (None, 15, 15, 64)        0         \n",
            "_________________________________________________________________\n",
            "dropout (Dropout)            (None, 15, 15, 64)        0         \n",
            "_________________________________________________________________\n",
            "conv2d_1 (Conv2D)            (None, 13, 13, 64)        36928     \n",
            "_________________________________________________________________\n",
            "max_pooling2d_1 (MaxPooling2 (None, 6, 6, 64)          0         \n",
            "_________________________________________________________________\n",
            "dropout_1 (Dropout)          (None, 6, 6, 64)          0         \n",
            "_________________________________________________________________\n",
            "flatten (Flatten)            (None, 2304)              0         \n",
            "_________________________________________________________________\n",
            "dense (Dense)                (None, 128)               295040    \n",
            "_________________________________________________________________\n",
            "dense_1 (Dense)              (None, 10)                1290      \n",
            "=================================================================\n",
            "Total params: 335,050\n",
            "Trainable params: 335,050\n",
            "Non-trainable params: 0\n",
            "_________________________________________________________________\n"
          ],
          "name": "stdout"
        }
      ]
    },
    {
      "cell_type": "code",
      "metadata": {
        "id": "KrEG7w2hrLhZ",
        "colab_type": "code",
        "colab": {}
      },
      "source": [
        "model.compile(optimizer='adam',\n",
        "              loss='sparse_categorical_crossentropy', metrics=['acc']\n",
        "             )"
      ],
      "execution_count": 0,
      "outputs": []
    },
    {
      "cell_type": "code",
      "metadata": {
        "scrolled": false,
        "id": "50CHAmSurLhu",
        "colab_type": "code",
        "colab": {
          "base_uri": "https://localhost:8080/",
          "height": 1000
        },
        "outputId": "10541756-3051-4e67-b4d1-e4d99addea02"
      },
      "source": [
        "history=model.fit(train_images , train_labels, epochs=50, validation_split=0.1 )"
      ],
      "execution_count": 10,
      "outputs": [
        {
          "output_type": "stream",
          "text": [
            "Train on 45000 samples, validate on 5000 samples\n",
            "Epoch 1/50\n",
            "45000/45000 [==============================] - 104s 2ms/sample - loss: 2.2422 - acc: 0.1525 - val_loss: 2.2262 - val_acc: 0.1548\n",
            "Epoch 2/50\n",
            "45000/45000 [==============================] - 103s 2ms/sample - loss: 2.2135 - acc: 0.1638 - val_loss: 2.2171 - val_acc: 0.1586\n",
            "Epoch 3/50\n",
            "45000/45000 [==============================] - 103s 2ms/sample - loss: 2.2011 - acc: 0.1706 - val_loss: 2.2063 - val_acc: 0.1660\n",
            "Epoch 4/50\n",
            "45000/45000 [==============================] - 103s 2ms/sample - loss: 2.1912 - acc: 0.1732 - val_loss: 2.2096 - val_acc: 0.1644\n",
            "Epoch 5/50\n",
            "45000/45000 [==============================] - 104s 2ms/sample - loss: 2.1836 - acc: 0.1773 - val_loss: 2.2037 - val_acc: 0.1684\n",
            "Epoch 6/50\n",
            "45000/45000 [==============================] - 103s 2ms/sample - loss: 2.1767 - acc: 0.1786 - val_loss: 2.2039 - val_acc: 0.1668\n",
            "Epoch 7/50\n",
            "45000/45000 [==============================] - 103s 2ms/sample - loss: 2.1691 - acc: 0.1849 - val_loss: 2.2021 - val_acc: 0.1634\n",
            "Epoch 8/50\n",
            "45000/45000 [==============================] - 104s 2ms/sample - loss: 2.1624 - acc: 0.1850 - val_loss: 2.2022 - val_acc: 0.1674\n",
            "Epoch 9/50\n",
            "45000/45000 [==============================] - 104s 2ms/sample - loss: 2.1571 - acc: 0.1879 - val_loss: 2.1987 - val_acc: 0.1646\n",
            "Epoch 10/50\n",
            "45000/45000 [==============================] - 104s 2ms/sample - loss: 2.1505 - acc: 0.1902 - val_loss: 2.2087 - val_acc: 0.1600\n",
            "Epoch 11/50\n",
            "45000/45000 [==============================] - 103s 2ms/sample - loss: 2.1452 - acc: 0.1928 - val_loss: 2.1961 - val_acc: 0.1650\n",
            "Epoch 12/50\n",
            "45000/45000 [==============================] - 103s 2ms/sample - loss: 2.1389 - acc: 0.1946 - val_loss: 2.1994 - val_acc: 0.1686\n",
            "Epoch 13/50\n",
            "45000/45000 [==============================] - 102s 2ms/sample - loss: 2.1344 - acc: 0.1982 - val_loss: 2.1997 - val_acc: 0.1640\n",
            "Epoch 14/50\n",
            "45000/45000 [==============================] - 104s 2ms/sample - loss: 2.1277 - acc: 0.1980 - val_loss: 2.2044 - val_acc: 0.1618\n",
            "Epoch 15/50\n",
            "45000/45000 [==============================] - 105s 2ms/sample - loss: 2.1250 - acc: 0.2016 - val_loss: 2.2039 - val_acc: 0.1668\n",
            "Epoch 16/50\n",
            "45000/45000 [==============================] - 105s 2ms/sample - loss: 2.1183 - acc: 0.2035 - val_loss: 2.2032 - val_acc: 0.1648\n",
            "Epoch 17/50\n",
            "45000/45000 [==============================] - 105s 2ms/sample - loss: 2.1139 - acc: 0.2030 - val_loss: 2.2065 - val_acc: 0.1644\n",
            "Epoch 18/50\n",
            "45000/45000 [==============================] - 105s 2ms/sample - loss: 2.1083 - acc: 0.2040 - val_loss: 2.2051 - val_acc: 0.1670\n",
            "Epoch 19/50\n",
            "45000/45000 [==============================] - 104s 2ms/sample - loss: 2.1072 - acc: 0.2055 - val_loss: 2.2072 - val_acc: 0.1628\n",
            "Epoch 20/50\n",
            "45000/45000 [==============================] - 104s 2ms/sample - loss: 2.1012 - acc: 0.2088 - val_loss: 2.2102 - val_acc: 0.1638\n",
            "Epoch 21/50\n",
            "45000/45000 [==============================] - 104s 2ms/sample - loss: 2.0979 - acc: 0.2096 - val_loss: 2.2125 - val_acc: 0.1620\n",
            "Epoch 22/50\n",
            "45000/45000 [==============================] - 103s 2ms/sample - loss: 2.0954 - acc: 0.2120 - val_loss: 2.2120 - val_acc: 0.1596\n",
            "Epoch 23/50\n",
            "45000/45000 [==============================] - 103s 2ms/sample - loss: 2.0919 - acc: 0.2136 - val_loss: 2.2087 - val_acc: 0.1654\n",
            "Epoch 24/50\n",
            "45000/45000 [==============================] - 102s 2ms/sample - loss: 2.0893 - acc: 0.2121 - val_loss: 2.2092 - val_acc: 0.1638\n",
            "Epoch 25/50\n",
            "45000/45000 [==============================] - 102s 2ms/sample - loss: 2.0823 - acc: 0.2160 - val_loss: 2.2115 - val_acc: 0.1620\n",
            "Epoch 26/50\n",
            "45000/45000 [==============================] - 103s 2ms/sample - loss: 2.0792 - acc: 0.2178 - val_loss: 2.2145 - val_acc: 0.1590\n",
            "Epoch 27/50\n",
            "45000/45000 [==============================] - 103s 2ms/sample - loss: 2.0766 - acc: 0.2183 - val_loss: 2.2134 - val_acc: 0.1600\n",
            "Epoch 28/50\n",
            "45000/45000 [==============================] - 102s 2ms/sample - loss: 2.0749 - acc: 0.2184 - val_loss: 2.2121 - val_acc: 0.1634\n",
            "Epoch 29/50\n",
            "45000/45000 [==============================] - 103s 2ms/sample - loss: 2.0659 - acc: 0.2211 - val_loss: 2.2134 - val_acc: 0.1640\n",
            "Epoch 30/50\n",
            "45000/45000 [==============================] - 103s 2ms/sample - loss: 2.0718 - acc: 0.2199 - val_loss: 2.2204 - val_acc: 0.1632\n",
            "Epoch 31/50\n",
            "45000/45000 [==============================] - 103s 2ms/sample - loss: 2.0647 - acc: 0.2230 - val_loss: 2.2210 - val_acc: 0.1604\n",
            "Epoch 32/50\n",
            "45000/45000 [==============================] - 104s 2ms/sample - loss: 2.0607 - acc: 0.2252 - val_loss: 2.2212 - val_acc: 0.1606\n",
            "Epoch 33/50\n",
            "45000/45000 [==============================] - 103s 2ms/sample - loss: 2.0596 - acc: 0.2252 - val_loss: 2.2251 - val_acc: 0.1628\n",
            "Epoch 34/50\n",
            "45000/45000 [==============================] - 103s 2ms/sample - loss: 2.0586 - acc: 0.2265 - val_loss: 2.2237 - val_acc: 0.1622\n",
            "Epoch 35/50\n",
            "45000/45000 [==============================] - 101s 2ms/sample - loss: 2.0564 - acc: 0.2244 - val_loss: 2.2271 - val_acc: 0.1616\n",
            "Epoch 36/50\n",
            "45000/45000 [==============================] - 103s 2ms/sample - loss: 2.0495 - acc: 0.2288 - val_loss: 2.2276 - val_acc: 0.1606\n",
            "Epoch 37/50\n",
            "45000/45000 [==============================] - 103s 2ms/sample - loss: 2.0493 - acc: 0.2259 - val_loss: 2.2298 - val_acc: 0.1596\n",
            "Epoch 38/50\n",
            "45000/45000 [==============================] - 103s 2ms/sample - loss: 2.0479 - acc: 0.2293 - val_loss: 2.2350 - val_acc: 0.1618\n",
            "Epoch 39/50\n",
            "45000/45000 [==============================] - 103s 2ms/sample - loss: 2.0445 - acc: 0.2296 - val_loss: 2.2375 - val_acc: 0.1560\n",
            "Epoch 40/50\n",
            "45000/45000 [==============================] - 103s 2ms/sample - loss: 2.0396 - acc: 0.2332 - val_loss: 2.2441 - val_acc: 0.1602\n",
            "Epoch 41/50\n",
            "45000/45000 [==============================] - 103s 2ms/sample - loss: 2.0404 - acc: 0.2333 - val_loss: 2.2352 - val_acc: 0.1574\n",
            "Epoch 42/50\n",
            "45000/45000 [==============================] - 104s 2ms/sample - loss: 2.0370 - acc: 0.2325 - val_loss: 2.2393 - val_acc: 0.1578\n",
            "Epoch 43/50\n",
            "45000/45000 [==============================] - 104s 2ms/sample - loss: 2.0360 - acc: 0.2355 - val_loss: 2.2403 - val_acc: 0.1562\n",
            "Epoch 44/50\n",
            "45000/45000 [==============================] - 103s 2ms/sample - loss: 2.0341 - acc: 0.2324 - val_loss: 2.2391 - val_acc: 0.1614\n",
            "Epoch 45/50\n",
            "45000/45000 [==============================] - 102s 2ms/sample - loss: 2.0284 - acc: 0.2359 - val_loss: 2.2444 - val_acc: 0.1560\n",
            "Epoch 46/50\n",
            "45000/45000 [==============================] - 103s 2ms/sample - loss: 2.0271 - acc: 0.2366 - val_loss: 2.2466 - val_acc: 0.1612\n",
            "Epoch 47/50\n",
            "45000/45000 [==============================] - 103s 2ms/sample - loss: 2.0281 - acc: 0.2368 - val_loss: 2.2432 - val_acc: 0.1604\n",
            "Epoch 48/50\n",
            "45000/45000 [==============================] - 103s 2ms/sample - loss: 2.0251 - acc: 0.2345 - val_loss: 2.2480 - val_acc: 0.1608\n",
            "Epoch 49/50\n",
            "45000/45000 [==============================] - 102s 2ms/sample - loss: 2.0209 - acc: 0.2381 - val_loss: 2.2551 - val_acc: 0.1588\n",
            "Epoch 50/50\n",
            "45000/45000 [==============================] - 102s 2ms/sample - loss: 2.0217 - acc: 0.2372 - val_loss: 2.2540 - val_acc: 0.1566\n"
          ],
          "name": "stdout"
        }
      ]
    },
    {
      "cell_type": "code",
      "metadata": {
        "id": "aT4ImH_HrLiC",
        "colab_type": "code",
        "colab": {
          "base_uri": "https://localhost:8080/",
          "height": 283
        },
        "outputId": "1cbac8a7-c0b2-4c59-d2c0-451ffaf9b821"
      },
      "source": [
        "plt.plot(history.history['acc'])\n",
        "plt.plot(history.history['val_acc'])\n",
        "plt.xlabel('epochs')\n",
        "plt.ylabel('accuracy')\n",
        "plt.show()"
      ],
      "execution_count": 11,
      "outputs": [
        {
          "output_type": "display_data",
          "data": {
            "image/png": "[encoded data removed]",
            "text/plain": [
              "<Figure size 432x288 with 1 Axes>"
            ]
          },
          "metadata": {
            "tags": []
          }
        }
      ]
    },
    {
      "cell_type": "code",
      "metadata": {
        "id": "e2fckxnmrLiT",
        "colab_type": "code",
        "colab": {}
      },
      "source": [
        ""
      ],
      "execution_count": 0,
      "outputs": []
    }
  ]
}